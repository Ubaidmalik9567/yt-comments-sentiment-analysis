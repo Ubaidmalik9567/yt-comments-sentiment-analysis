{
 "cells": [
  {
   "cell_type": "code",
   "execution_count": 4,
   "metadata": {
    "id": "vch7jvzg-O9C"
   },
   "outputs": [],
   "source": [
    "import mlflow\n",
    "# Step 2: Set up the MLflow tracking server\n",
    "mlflow.set_tracking_uri(\"http://ec2-13-60-32-83.eu-north-1.compute.amazonaws.com:5000/\")"
   ]
  },
  {
   "cell_type": "code",
   "execution_count": 5,
   "metadata": {
    "colab": {
     "base_uri": "https://localhost:8080/"
    },
    "id": "4aPGvuI7-Yu_",
    "outputId": "3dce621e-5886-4278-f010-b60ce2a8c98a"
   },
   "outputs": [
    {
     "data": {
      "text/plain": [
       "<Experiment: artifact_location='s3://mlflow-yt-comment-analyzer-bucket/483013373194964844', creation_time=1730018441942, experiment_id='483013373194964844', last_update_time=1730018441942, lifecycle_stage='active', name='Exp 5 - ML Algos with HP Tuning', tags={}>"
      ]
     },
     "execution_count": 5,
     "metadata": {},
     "output_type": "execute_result"
    }
   ],
   "source": [
    "# Set or create an experiment\n",
    "mlflow.set_experiment(\"Exp 5 - ML Algos with HP Tuning\")"
   ]
  },
  {
   "cell_type": "code",
   "execution_count": 3,
   "metadata": {
    "colab": {
     "base_uri": "https://localhost:8080/"
    },
    "id": "CNoYRU5W-gdD",
    "outputId": "c3dca95b-f9f6-439d-d3b6-e5abb0f34fbe"
   },
   "outputs": [],
   "source": [
    "import optuna\n",
    "import mlflow\n",
    "import mlflow.sklearn\n",
    "from sklearn.model_selection import train_test_split\n",
    "from sklearn.metrics import accuracy_score, classification_report\n",
    "from sklearn.feature_extraction.text import TfidfVectorizer\n",
    "from sklearn.linear_model import LogisticRegression\n",
    "from sklearn.svm import SVC\n",
    "from xgboost import XGBClassifier\n",
    "from lightgbm import LGBMClassifier\n",
    "from sklearn.neighbors import KNeighborsClassifier\n",
    "from sklearn.naive_bayes import MultinomialNB\n",
    "from sklearn.ensemble import RandomForestClassifier\n",
    "from imblearn.over_sampling import SMOTE\n",
    "import matplotlib.pyplot as plt\n",
    "import seaborn as sns\n",
    "import pandas as pd"
   ]
  },
  {
   "cell_type": "code",
   "execution_count": null,
   "metadata": {},
   "outputs": [],
   "source": []
  },
  {
   "cell_type": "code",
   "execution_count": 4,
   "metadata": {
    "colab": {
     "base_uri": "https://localhost:8080/"
    },
    "id": "BhAQ53ko-los",
    "outputId": "fa282c73-bb95-4d60-97f4-aa41001a3933"
   },
   "outputs": [
    {
     "data": {
      "text/plain": [
       "(36799, 2)"
      ]
     },
     "metadata": {},
     "output_type": "display_data"
    },
    {
     "data": {
      "text/plain": [
       "None"
      ]
     },
     "metadata": {},
     "output_type": "display_data"
    },
    {
     "data": {
      "text/plain": [
       "(36662, 2)"
      ]
     },
     "metadata": {},
     "output_type": "display_data"
    }
   ],
   "source": [
    "df = pd.read_csv(\"/media/ubaid-ur-rehman/Artifacts/CodeData/jupyter notebook/End to End  ML Projects/yt-comment-analyzer-preprocessing/reddit_preprocessing.csv\")\n",
    "display(df.shape,df.dropna(inplace=True)\n",
    ",df.shape)"
   ]
  },
  {
   "cell_type": "code",
   "execution_count": 5,
   "metadata": {
    "colab": {
     "base_uri": "https://localhost:8080/",
     "height": 897
    },
    "id": "9c1OkYCN-uUw",
    "outputId": "d19bf22e-f4fb-4dff-80a9-49e9629268a1"
   },
   "outputs": [
    {
     "name": "stderr",
     "output_type": "stream",
     "text": [
      "[I 2024-10-27 13:43:38,928] A new study created in memory with name: no-name-78d86a25-bfbd-4340-b7b7-86ed0e3f8cdc\n",
      "[I 2024-10-27 13:46:44,686] Trial 0 finished with value: 0.5550252284194737 and parameters: {'n_estimators': 175, 'learning_rate': 0.0009437132332075618, 'max_depth': 5}. Best is trial 0 with value: 0.5550252284194737.\n",
      "[I 2024-10-27 13:51:09,359] Trial 1 finished with value: 0.6363016500750034 and parameters: {'n_estimators': 96, 'learning_rate': 0.0055191848653518925, 'max_depth': 10}. Best is trial 1 with value: 0.6363016500750034.\n",
      "[I 2024-10-27 13:54:24,017] Trial 2 finished with value: 0.5336151643256511 and parameters: {'n_estimators': 255, 'learning_rate': 0.0002601632521295328, 'max_depth': 4}. Best is trial 1 with value: 0.6363016500750034.\n",
      "[I 2024-10-27 13:56:30,582] Trial 3 finished with value: 0.5351152325105687 and parameters: {'n_estimators': 209, 'learning_rate': 0.0006337789520347148, 'max_depth': 3}. Best is trial 1 with value: 0.6363016500750034.\n",
      "[I 2024-10-27 14:02:29,283] Trial 4 finished with value: 0.600163643801991 and parameters: {'n_estimators': 160, 'learning_rate': 0.002443888535874288, 'max_depth': 7}. Best is trial 1 with value: 0.6363016500750034.\n",
      "[I 2024-10-27 14:05:56,682] Trial 5 finished with value: 0.6196645302059185 and parameters: {'n_estimators': 138, 'learning_rate': 0.01040142023026722, 'max_depth': 5}. Best is trial 1 with value: 0.6363016500750034.\n",
      "[I 2024-10-27 14:09:49,761] Trial 6 finished with value: 0.6496658939042683 and parameters: {'n_estimators': 224, 'learning_rate': 0.014182551398805197, 'max_depth': 4}. Best is trial 6 with value: 0.6496658939042683.\n",
      "[I 2024-10-27 14:15:56,372] Trial 7 finished with value: 0.6466657575344333 and parameters: {'n_estimators': 288, 'learning_rate': 0.008059123234293078, 'max_depth': 5}. Best is trial 6 with value: 0.6496658939042683.\n",
      "[I 2024-10-27 14:20:45,366] Trial 8 finished with value: 0.5591163234692486 and parameters: {'n_estimators': 150, 'learning_rate': 0.0005693102972543313, 'max_depth': 6}. Best is trial 6 with value: 0.6496658939042683.\n",
      "[I 2024-10-27 14:27:34,790] Trial 9 finished with value: 0.6893495158870858 and parameters: {'n_estimators': 180, 'learning_rate': 0.02110583871591181, 'max_depth': 7}. Best is trial 9 with value: 0.6893495158870858.\n",
      "[I 2024-10-27 14:30:24,161] Trial 10 finished with value: 0.6972589663166507 and parameters: {'n_estimators': 53, 'learning_rate': 0.06895071373037365, 'max_depth': 8}. Best is trial 10 with value: 0.6972589663166507.\n",
      "[I 2024-10-27 14:32:35,356] Trial 11 finished with value: 0.7264421110050456 and parameters: {'n_estimators': 61, 'learning_rate': 0.09818128541593488, 'max_depth': 8}. Best is trial 11 with value: 0.7264421110050456.\n",
      "[I 2024-10-27 14:36:05,268] Trial 12 finished with value: 0.7273966998499932 and parameters: {'n_estimators': 63, 'learning_rate': 0.08515517977407358, 'max_depth': 9}. Best is trial 12 with value: 0.7273966998499932.\n",
      "[I 2024-10-27 14:39:12,029] Trial 13 finished with value: 0.7208509477703532 and parameters: {'n_estimators': 52, 'learning_rate': 0.0928566607078263, 'max_depth': 9}. Best is trial 12 with value: 0.7273966998499932.\n",
      "[I 2024-10-27 14:45:00,105] Trial 14 finished with value: 0.7066684849311332 and parameters: {'n_estimators': 94, 'learning_rate': 0.03474498516307623, 'max_depth': 10}. Best is trial 12 with value: 0.7273966998499932.\n",
      "[I 2024-10-27 14:50:03,875] Trial 15 finished with value: 0.7080321832810582 and parameters: {'n_estimators': 101, 'learning_rate': 0.042620776119739856, 'max_depth': 8}. Best is trial 12 with value: 0.7273966998499932.\n",
      "[I 2024-10-27 14:56:35,065] Trial 16 finished with value: 0.6144824764762035 and parameters: {'n_estimators': 118, 'learning_rate': 0.0020584862633675305, 'max_depth': 9}. Best is trial 12 with value: 0.7273966998499932.\n",
      "[I 2024-10-27 14:59:40,286] Trial 17 finished with value: 0.7368062184644757 and parameters: {'n_estimators': 74, 'learning_rate': 0.09595422387965255, 'max_depth': 8}. Best is trial 17 with value: 0.7368062184644757.\n",
      "[I 2024-10-27 15:06:07,565] Trial 18 finished with value: 0.7066684849311332 and parameters: {'n_estimators': 122, 'learning_rate': 0.03022610486367791, 'max_depth': 9}. Best is trial 17 with value: 0.7368062184644757.\n",
      "[I 2024-10-27 15:10:54,246] Trial 19 finished with value: 0.6335742533751534 and parameters: {'n_estimators': 80, 'learning_rate': 0.004767565807693079, 'max_depth': 10}. Best is trial 17 with value: 0.7368062184644757.\n",
      "[I 2024-10-27 15:14:02,528] Trial 20 finished with value: 0.5728896768034911 and parameters: {'n_estimators': 76, 'learning_rate': 0.00013835986985870848, 'max_depth': 7}. Best is trial 17 with value: 0.7368062184644757.\n",
      "[I 2024-10-27 15:17:19,794] Trial 21 finished with value: 0.7286240283649257 and parameters: {'n_estimators': 69, 'learning_rate': 0.08956048170353302, 'max_depth': 8}. Best is trial 17 with value: 0.7368062184644757.\n",
      "[I 2024-10-27 15:20:38,202] Trial 22 finished with value: 0.7063957452611482 and parameters: {'n_estimators': 76, 'learning_rate': 0.054096783610371436, 'max_depth': 8}. Best is trial 17 with value: 0.7368062184644757.\n",
      "[I 2024-10-27 15:27:26,765] Trial 23 finished with value: 0.6773489704077458 and parameters: {'n_estimators': 117, 'learning_rate': 0.019485862365825116, 'max_depth': 9}. Best is trial 17 with value: 0.7368062184644757.\n",
      "[I 2024-10-27 15:29:51,191] Trial 24 finished with value: 0.6804854766125733 and parameters: {'n_estimators': 72, 'learning_rate': 0.05274198475103202, 'max_depth': 6}. Best is trial 17 with value: 0.7368062184644757.\n",
      "[I 2024-10-27 15:35:17,102] Trial 25 finished with value: 0.6762580117278059 and parameters: {'n_estimators': 98, 'learning_rate': 0.025493894701458315, 'max_depth': 8}. Best is trial 17 with value: 0.7368062184644757.\n",
      "[I 2024-10-27 15:38:16,275] Trial 26 finished with value: 0.7155325242056457 and parameters: {'n_estimators': 50, 'learning_rate': 0.08889189794174042, 'max_depth': 9}. Best is trial 17 with value: 0.7368062184644757.\n",
      "[I 2024-10-27 15:43:38,984] Trial 27 finished with value: 0.7189417700804582 and parameters: {'n_estimators': 130, 'learning_rate': 0.049538682616319586, 'max_depth': 7}. Best is trial 17 with value: 0.7368062184644757.\n",
      "[I 2024-10-27 15:49:09,035] Trial 28 finished with value: 0.6582571935087959 and parameters: {'n_estimators': 108, 'learning_rate': 0.015394312996054808, 'max_depth': 8}. Best is trial 17 with value: 0.7368062184644757.\n",
      "[I 2024-10-27 15:55:12,981] Trial 29 finished with value: 0.5694804309286786 and parameters: {'n_estimators': 181, 'learning_rate': 0.001493375567125049, 'max_depth': 6}. Best is trial 17 with value: 0.7368062184644757.\n",
      "2024/10/27 15:58:35 WARNING mlflow.models.model: Model logged without a signature and input example. Please set `input_example` parameter when logging the model to auto infer the model signature.\n"
     ]
    }
   ],
   "source": [
    "# Step 1: Remap the class labels from [-1, 0, 1] to [2, 0, 1]\n",
    "df['category'] = df['category'].map({-1: 2, 0: 0, 1: 1})\n",
    "\n",
    "# Step 2: Remove rows where the target labels (category) are NaN\n",
    "df = df.dropna(subset=['category'])\n",
    "\n",
    "ngram_range = (1, 3)  # Trigram setting\n",
    "max_features = 10000  # Set max_features to 1000 for TF-IDF\n",
    "\n",
    "# Step 4: Train-test split before vectorization and resampling\n",
    "X_train, X_test, y_train, y_test = train_test_split(df['clean_comment'], df['category'], test_size=0.2, random_state=42, stratify=df['category'])\n",
    "\n",
    "# Step 2: Vectorization using TF-IDF, fit on training data only\n",
    "vectorizer = TfidfVectorizer(ngram_range=ngram_range, max_features=max_features)\n",
    "X_train_vec = vectorizer.fit_transform(X_train)  # Fit on training data\n",
    "X_test_vec = vectorizer.transform(X_test)  # Transform test data\n",
    "\n",
    "smote = SMOTE(random_state=42)\n",
    "X_train_vec, y_train = smote.fit_resample(X_train_vec, y_train)\n",
    "\n",
    "# Function to log results in MLflow\n",
    "def log_mlflow(model_name, model, X_train, X_test, y_train, y_test):\n",
    "    with mlflow.start_run():\n",
    "        # Log model type\n",
    "        mlflow.set_tag(\"mlflow.runName\", f\"{model_name}_SMOTE_TFIDF_Trigrams\")\n",
    "        mlflow.set_tag(\"experiment_type\", \"algorithm_comparison\")\n",
    "\n",
    "        # Log algorithm name as a parameter\n",
    "        mlflow.log_param(\"algo_name\", model_name)\n",
    "\n",
    "        # Train model\n",
    "        model.fit(X_train, y_train)\n",
    "        y_pred = model.predict(X_test)\n",
    "\n",
    "        # Log accuracy\n",
    "        accuracy = accuracy_score(y_test, y_pred)\n",
    "        mlflow.log_metric(\"accuracy\", accuracy)\n",
    "\n",
    "        # Log classification report\n",
    "        classification_rep = classification_report(y_test, y_pred, output_dict=True)\n",
    "        for label, metrics in classification_rep.items():\n",
    "            if isinstance(metrics, dict):\n",
    "                for metric, value in metrics.items():\n",
    "                    mlflow.log_metric(f\"{label}_{metric}\", value)\n",
    "\n",
    "        # Log the model\n",
    "        mlflow.sklearn.log_model(model, f\"{model_name}_model\")\n",
    "\n",
    "\n",
    "# Step 6: Optuna objective function for XGBoost\n",
    "def objective_xgboost(trial):\n",
    "    n_estimators = trial.suggest_int('n_estimators', 50, 300)\n",
    "    learning_rate = trial.suggest_float('learning_rate', 1e-4, 1e-1, log=True)\n",
    "    max_depth = trial.suggest_int('max_depth', 3, 10)\n",
    "\n",
    "    model = XGBClassifier(n_estimators=n_estimators, learning_rate=learning_rate, max_depth=max_depth, random_state=42)\n",
    "    return accuracy_score(y_test, model.fit(X_train_vec, y_train).predict(X_test_vec))\n",
    "\n",
    "\n",
    "# Step 7: Run Optuna for XGBoost, log the best model only\n",
    "def run_optuna_experiment():\n",
    "    study = optuna.create_study(direction=\"maximize\")\n",
    "    study.optimize(objective_xgboost, n_trials=30)\n",
    "\n",
    "    # Get the best parameters and log only the best model\n",
    "    best_params = study.best_params\n",
    "    best_model = XGBClassifier(n_estimators=best_params['n_estimators'], learning_rate=best_params['learning_rate'], max_depth=best_params['max_depth'], random_state=42)\n",
    "\n",
    "    # Log the best model with MLflow, passing the algo_name as \"xgboost\"\n",
    "    log_mlflow(\"XGBoost\", best_model, X_train_vec, X_test_vec, y_train, y_test)\n",
    "\n",
    "# Run the experiment for XGBoost\n",
    "run_optuna_experiment()\n"
   ]
  },
  {
   "cell_type": "code",
   "execution_count": 6,
   "metadata": {
    "id": "d7muRs3BED3o"
   },
   "outputs": [
    {
     "ename": "SyntaxError",
     "evalue": "invalid syntax (1933637684.py, line 1)",
     "output_type": "error",
     "traceback": [
      "\u001b[0;36m  Cell \u001b[0;32mIn[6], line 1\u001b[0;36m\u001b[0m\n\u001b[0;31m    .\u001b[0m\n\u001b[0m    ^\u001b[0m\n\u001b[0;31mSyntaxError\u001b[0m\u001b[0;31m:\u001b[0m invalid syntax\n"
     ]
    }
   ],
   "source": [
    "."
   ]
  },
  {
   "cell_type": "code",
   "execution_count": null,
   "metadata": {},
   "outputs": [],
   "source": []
  }
 ],
 "metadata": {
  "colab": {
   "provenance": []
  },
  "kernelspec": {
   "display_name": "Python 3 (ipykernel)",
   "language": "python",
   "name": "python3"
  },
  "language_info": {
   "codemirror_mode": {
    "name": "ipython",
    "version": 3
   },
   "file_extension": ".py",
   "mimetype": "text/x-python",
   "name": "python",
   "nbconvert_exporter": "python",
   "pygments_lexer": "ipython3",
   "version": "3.10.14"
  }
 },
 "nbformat": 4,
 "nbformat_minor": 4
}
