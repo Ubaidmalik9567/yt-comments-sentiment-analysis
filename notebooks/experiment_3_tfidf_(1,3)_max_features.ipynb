{
 "cells": [
  {
   "cell_type": "code",
   "execution_count": 3,
   "metadata": {
    "id": "PbtsROvKl_V2"
   },
   "outputs": [],
   "source": [
    "import mlflow\n",
    "# Step 2: Set up the MLflow tracking server\n",
    "mlflow.set_tracking_uri(\"http://ec2-13-60-32-83.eu-north-1.compute.amazonaws.com:5000/\")"
   ]
  },
  {
   "cell_type": "code",
   "execution_count": 4,
   "metadata": {
    "colab": {
     "base_uri": "https://localhost:8080/"
    },
    "id": "ORtN_HMHmJC-",
    "outputId": "2dbeac9e-d1ca-4aac-b1a8-ad6f80969add"
   },
   "outputs": [
    {
     "name": "stderr",
     "output_type": "stream",
     "text": [
      "2024/10/27 13:25:08 INFO mlflow.tracking.fluent: Experiment with name 'Exp 3 - TfIdf Trigram max_Features' does not exist. Creating a new experiment.\n"
     ]
    },
    {
     "data": {
      "text/plain": [
       "<Experiment: artifact_location='s3://mlflow-yt-comment-analyzer-bucket/864487778802747935', creation_time=1730017508969, experiment_id='864487778802747935', last_update_time=1730017508969, lifecycle_stage='active', name='Exp 3 - TfIdf Trigram max_Features', tags={}>"
      ]
     },
     "execution_count": 4,
     "metadata": {},
     "output_type": "execute_result"
    }
   ],
   "source": [
    "# Set or create an experiment\n",
    "mlflow.set_experiment(\"Exp 3 - TfIdf Trigram max_Features\")"
   ]
  },
  {
   "cell_type": "code",
   "execution_count": 5,
   "metadata": {
    "id": "zMUpXMeSmQiH"
   },
   "outputs": [],
   "source": [
    "from sklearn.feature_extraction.text import TfidfVectorizer\n",
    "from sklearn.ensemble import RandomForestClassifier\n",
    "from sklearn.model_selection import train_test_split\n",
    "from sklearn.metrics import accuracy_score, classification_report, confusion_matrix\n",
    "import mlflow\n",
    "import mlflow.sklearn\n",
    "import matplotlib.pyplot as plt\n",
    "import seaborn as sns\n",
    "import pandas as pd\n",
    "import os"
   ]
  },
  {
   "cell_type": "code",
   "execution_count": 6,
   "metadata": {
    "colab": {
     "base_uri": "https://localhost:8080/"
    },
    "id": "iA8IXLHhmT_r",
    "outputId": "0ba9b490-a5b5-45f1-e4d1-970fa72a06e2"
   },
   "outputs": [
    {
     "data": {
      "text/plain": [
       "(36799, 2)"
      ]
     },
     "metadata": {},
     "output_type": "display_data"
    },
    {
     "data": {
      "text/plain": [
       "None"
      ]
     },
     "metadata": {},
     "output_type": "display_data"
    },
    {
     "data": {
      "text/plain": [
       "(36662, 2)"
      ]
     },
     "metadata": {},
     "output_type": "display_data"
    }
   ],
   "source": [
    "df = pd.read_csv(\"/media/ubaid-ur-rehman/Artifacts/CodeData/jupyter notebook/End to End  ML Projects/yt-comment-analyzer-preprocessing/reddit_preprocessing.csv\")\n",
    "display(df.shape,df.dropna(inplace=True)\n",
    ",df.shape)"
   ]
  },
  {
   "cell_type": "code",
   "execution_count": 7,
   "metadata": {
    "colab": {
     "base_uri": "https://localhost:8080/"
    },
    "id": "99A50tSPmXde",
    "outputId": "7e8ba218-6c10-4d91-cb43-ff0825a8a9ca"
   },
   "outputs": [
    {
     "name": "stderr",
     "output_type": "stream",
     "text": [
      "2024/10/27 13:25:44 WARNING mlflow.models.model: Model logged without a signature and input example. Please set `input_example` parameter when logging the model to auto infer the model signature.\n",
      "2024/10/27 13:25:57 INFO mlflow.tracking._tracking_service.client: 🏃 View run TFIDF_Trigrams_max_features_1000 at: http://ec2-13-60-32-83.eu-north-1.compute.amazonaws.com:5000/#/experiments/864487778802747935/runs/d13a78cd48e54c5a85aca7dc702b7277.\n",
      "2024/10/27 13:25:57 INFO mlflow.tracking._tracking_service.client: 🧪 View experiment at: http://ec2-13-60-32-83.eu-north-1.compute.amazonaws.com:5000/#/experiments/864487778802747935.\n",
      "2024/10/27 13:26:26 WARNING mlflow.models.model: Model logged without a signature and input example. Please set `input_example` parameter when logging the model to auto infer the model signature.\n",
      "2024/10/27 13:26:36 INFO mlflow.tracking._tracking_service.client: 🏃 View run TFIDF_Trigrams_max_features_2000 at: http://ec2-13-60-32-83.eu-north-1.compute.amazonaws.com:5000/#/experiments/864487778802747935/runs/59e0a001aea44a9b8df46e0b527f0062.\n",
      "2024/10/27 13:26:36 INFO mlflow.tracking._tracking_service.client: 🧪 View experiment at: http://ec2-13-60-32-83.eu-north-1.compute.amazonaws.com:5000/#/experiments/864487778802747935.\n",
      "2024/10/27 13:27:07 WARNING mlflow.models.model: Model logged without a signature and input example. Please set `input_example` parameter when logging the model to auto infer the model signature.\n",
      "2024/10/27 13:27:21 INFO mlflow.tracking._tracking_service.client: 🏃 View run TFIDF_Trigrams_max_features_3000 at: http://ec2-13-60-32-83.eu-north-1.compute.amazonaws.com:5000/#/experiments/864487778802747935/runs/bffac3d8cbc54baabbe7f685ac42b540.\n",
      "2024/10/27 13:27:21 INFO mlflow.tracking._tracking_service.client: 🧪 View experiment at: http://ec2-13-60-32-83.eu-north-1.compute.amazonaws.com:5000/#/experiments/864487778802747935.\n",
      "2024/10/27 13:27:50 WARNING mlflow.models.model: Model logged without a signature and input example. Please set `input_example` parameter when logging the model to auto infer the model signature.\n",
      "2024/10/27 13:28:07 INFO mlflow.tracking._tracking_service.client: 🏃 View run TFIDF_Trigrams_max_features_4000 at: http://ec2-13-60-32-83.eu-north-1.compute.amazonaws.com:5000/#/experiments/864487778802747935/runs/f43f88ee7a714cebad78938d6b223001.\n",
      "2024/10/27 13:28:07 INFO mlflow.tracking._tracking_service.client: 🧪 View experiment at: http://ec2-13-60-32-83.eu-north-1.compute.amazonaws.com:5000/#/experiments/864487778802747935.\n",
      "2024/10/27 13:28:36 WARNING mlflow.models.model: Model logged without a signature and input example. Please set `input_example` parameter when logging the model to auto infer the model signature.\n",
      "2024/10/27 13:28:46 INFO mlflow.tracking._tracking_service.client: 🏃 View run TFIDF_Trigrams_max_features_5000 at: http://ec2-13-60-32-83.eu-north-1.compute.amazonaws.com:5000/#/experiments/864487778802747935/runs/85ea5d9c14924b9b909e5bd1c01d6c4b.\n",
      "2024/10/27 13:28:46 INFO mlflow.tracking._tracking_service.client: 🧪 View experiment at: http://ec2-13-60-32-83.eu-north-1.compute.amazonaws.com:5000/#/experiments/864487778802747935.\n",
      "2024/10/27 13:29:12 WARNING mlflow.models.model: Model logged without a signature and input example. Please set `input_example` parameter when logging the model to auto infer the model signature.\n",
      "2024/10/27 13:29:27 INFO mlflow.tracking._tracking_service.client: 🏃 View run TFIDF_Trigrams_max_features_6000 at: http://ec2-13-60-32-83.eu-north-1.compute.amazonaws.com:5000/#/experiments/864487778802747935/runs/affedbce13a44b4fa6737326c8826354.\n",
      "2024/10/27 13:29:27 INFO mlflow.tracking._tracking_service.client: 🧪 View experiment at: http://ec2-13-60-32-83.eu-north-1.compute.amazonaws.com:5000/#/experiments/864487778802747935.\n",
      "2024/10/27 13:29:55 WARNING mlflow.models.model: Model logged without a signature and input example. Please set `input_example` parameter when logging the model to auto infer the model signature.\n",
      "2024/10/27 13:30:10 INFO mlflow.tracking._tracking_service.client: 🏃 View run TFIDF_Trigrams_max_features_7000 at: http://ec2-13-60-32-83.eu-north-1.compute.amazonaws.com:5000/#/experiments/864487778802747935/runs/8c9a4426b6a94f3f8430ed381abebe50.\n",
      "2024/10/27 13:30:10 INFO mlflow.tracking._tracking_service.client: 🧪 View experiment at: http://ec2-13-60-32-83.eu-north-1.compute.amazonaws.com:5000/#/experiments/864487778802747935.\n",
      "2024/10/27 13:30:40 WARNING mlflow.models.model: Model logged without a signature and input example. Please set `input_example` parameter when logging the model to auto infer the model signature.\n",
      "2024/10/27 13:30:50 INFO mlflow.tracking._tracking_service.client: 🏃 View run TFIDF_Trigrams_max_features_8000 at: http://ec2-13-60-32-83.eu-north-1.compute.amazonaws.com:5000/#/experiments/864487778802747935/runs/10e287c011164ae4b56d04029a7a47fb.\n",
      "2024/10/27 13:30:50 INFO mlflow.tracking._tracking_service.client: 🧪 View experiment at: http://ec2-13-60-32-83.eu-north-1.compute.amazonaws.com:5000/#/experiments/864487778802747935.\n",
      "2024/10/27 13:31:19 WARNING mlflow.models.model: Model logged without a signature and input example. Please set `input_example` parameter when logging the model to auto infer the model signature.\n",
      "2024/10/27 13:31:33 INFO mlflow.tracking._tracking_service.client: 🏃 View run TFIDF_Trigrams_max_features_9000 at: http://ec2-13-60-32-83.eu-north-1.compute.amazonaws.com:5000/#/experiments/864487778802747935/runs/328c92737b934774a03e4621b50a88d8.\n",
      "2024/10/27 13:31:33 INFO mlflow.tracking._tracking_service.client: 🧪 View experiment at: http://ec2-13-60-32-83.eu-north-1.compute.amazonaws.com:5000/#/experiments/864487778802747935.\n",
      "2024/10/27 13:32:00 WARNING mlflow.models.model: Model logged without a signature and input example. Please set `input_example` parameter when logging the model to auto infer the model signature.\n",
      "2024/10/27 13:32:13 INFO mlflow.tracking._tracking_service.client: 🏃 View run TFIDF_Trigrams_max_features_10000 at: http://ec2-13-60-32-83.eu-north-1.compute.amazonaws.com:5000/#/experiments/864487778802747935/runs/db56adf37a9c4336904daa3bc4ead95d.\n",
      "2024/10/27 13:32:13 INFO mlflow.tracking._tracking_service.client: 🧪 View experiment at: http://ec2-13-60-32-83.eu-north-1.compute.amazonaws.com:5000/#/experiments/864487778802747935.\n"
     ]
    }
   ],
   "source": [
    "# Step 1: Function to run the experiment\n",
    "def run_experiment_tfidf_max_features(max_features):\n",
    "    ngram_range = (1, 3)  # Trigram setting\n",
    "\n",
    "    # Step 2: Vectorization using TF-IDF with varying max_features\n",
    "    vectorizer = TfidfVectorizer(ngram_range=ngram_range, max_features=max_features)\n",
    "\n",
    "    X_train, X_test, y_train, y_test = train_test_split(df['clean_comment'], df['category'], test_size=0.2, random_state=42, stratify=df['category'])\n",
    "\n",
    "    X_train = vectorizer.fit_transform(X_train)\n",
    "    X_test = vectorizer.transform(X_test)\n",
    "\n",
    "    # Step 4: Define and train a Random Forest model\n",
    "    with mlflow.start_run() as run:\n",
    "        # Set tags for the experiment and run\n",
    "        mlflow.set_tag(\"mlflow.runName\", f\"TFIDF_Trigrams_max_features_{max_features}\")\n",
    "        mlflow.set_tag(\"experiment_type\", \"feature_engineering\")\n",
    "        mlflow.set_tag(\"model_type\", \"RandomForestClassifier\")\n",
    "\n",
    "        # Add a description\n",
    "        mlflow.set_tag(\"description\", f\"RandomForest with TF-IDF Trigrams, max_features={max_features}\")\n",
    "\n",
    "        # Log vectorizer parameters\n",
    "        mlflow.log_param(\"vectorizer_type\", \"TF-IDF\")\n",
    "        mlflow.log_param(\"ngram_range\", ngram_range)\n",
    "        mlflow.log_param(\"vectorizer_max_features\", max_features)\n",
    "\n",
    "        # Log Random Forest parameters\n",
    "        n_estimators = 200\n",
    "        max_depth = 15\n",
    "\n",
    "        mlflow.log_param(\"n_estimators\", n_estimators)\n",
    "        mlflow.log_param(\"max_depth\", max_depth)\n",
    "\n",
    "        # Initialize and train the model\n",
    "        model = RandomForestClassifier(n_estimators=n_estimators, max_depth=max_depth, random_state=42)\n",
    "        model.fit(X_train, y_train)\n",
    "\n",
    "        # Step 5: Make predictions and log metrics\n",
    "        y_pred = model.predict(X_test)\n",
    "\n",
    "        # Log accuracy\n",
    "        accuracy = accuracy_score(y_test, y_pred)\n",
    "        mlflow.log_metric(\"accuracy\", accuracy)\n",
    "\n",
    "        # Log classification report\n",
    "        classification_rep = classification_report(y_test, y_pred, output_dict=True)\n",
    "        for label, metrics in classification_rep.items():\n",
    "            if isinstance(metrics, dict):\n",
    "                for metric, value in metrics.items():\n",
    "                    mlflow.log_metric(f\"{label}_{metric}\", value)\n",
    "\n",
    "        # Log confusion matrix\n",
    "        conf_matrix = confusion_matrix(y_test, y_pred)\n",
    "        plt.figure(figsize=(8, 6))\n",
    "        sns.heatmap(conf_matrix, annot=True, fmt=\"d\", cmap=\"Blues\")\n",
    "        plt.xlabel(\"Predicted\")\n",
    "        plt.ylabel(\"Actual\")\n",
    "        plt.title(f\"Confusion Matrix: TF-IDF Trigrams, max_features={max_features}\")\n",
    "        plt.savefig(\"confusion_matrix.png\")\n",
    "        mlflow.log_artifact(\"confusion_matrix.png\")\n",
    "        plt.close()\n",
    "\n",
    "        # Log the model\n",
    "        mlflow.sklearn.log_model(model, f\"random_forest_model_tfidf_trigrams_{max_features}\")\n",
    "\n",
    "# Step 6: Test various max_features values\n",
    "max_features_values = [1000, 2000, 3000, 4000, 5000, 6000, 7000, 8000, 9000, 10000]\n",
    "\n",
    "for max_features in max_features_values:\n",
    "    run_experiment_tfidf_max_features(max_features)"
   ]
  },
  {
   "cell_type": "code",
   "execution_count": 8,
   "metadata": {
    "id": "uHbWPC8Vm2Fm"
   },
   "outputs": [
    {
     "ename": "SyntaxError",
     "evalue": "invalid syntax (1933637684.py, line 1)",
     "output_type": "error",
     "traceback": [
      "\u001b[0;36m  Cell \u001b[0;32mIn[8], line 1\u001b[0;36m\u001b[0m\n\u001b[0;31m    .\u001b[0m\n\u001b[0m    ^\u001b[0m\n\u001b[0;31mSyntaxError\u001b[0m\u001b[0;31m:\u001b[0m invalid syntax\n"
     ]
    }
   ],
   "source": [
    "."
   ]
  }
 ],
 "metadata": {
  "colab": {
   "provenance": []
  },
  "kernelspec": {
   "display_name": "Python 3 (ipykernel)",
   "language": "python",
   "name": "python3"
  },
  "language_info": {
   "codemirror_mode": {
    "name": "ipython",
    "version": 3
   },
   "file_extension": ".py",
   "mimetype": "text/x-python",
   "name": "python",
   "nbconvert_exporter": "python",
   "pygments_lexer": "ipython3",
   "version": "3.10.14"
  }
 },
 "nbformat": 4,
 "nbformat_minor": 4
}
