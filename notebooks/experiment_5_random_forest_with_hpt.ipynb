{
 "cells": [
  {
   "cell_type": "code",
   "execution_count": 3,
   "metadata": {
    "id": "IZ-BK2TaNIbe"
   },
   "outputs": [],
   "source": [
    "import mlflow\n",
    "# Step 2: Set up the MLflow tracking server\n",
    "mlflow.set_tracking_uri(\"http://ec2-13-60-32-83.eu-north-1.compute.amazonaws.com:5000/\")"
   ]
  },
  {
   "cell_type": "code",
   "execution_count": 4,
   "metadata": {
    "colab": {
     "base_uri": "https://localhost:8080/"
    },
    "id": "fFQmSXn-NRSd",
    "outputId": "0501efcb-2189-4434-b271-548d1bbcda4d"
   },
   "outputs": [
    {
     "data": {
      "text/plain": [
       "<Experiment: artifact_location='s3://mlflow-yt-comment-analyzer-bucket/627515249629414087', creation_time=1730017653834, experiment_id='627515249629414087', last_update_time=1730017653834, lifecycle_stage='active', name='ML Algos with HP Tuning', tags={}>"
      ]
     },
     "execution_count": 4,
     "metadata": {},
     "output_type": "execute_result"
    }
   ],
   "source": [
    "# Set or create an experiment\n",
    "mlflow.set_experiment(\"ML Algos with HP Tuning\")"
   ]
  },
  {
   "cell_type": "code",
   "execution_count": 5,
   "metadata": {
    "id": "4uuO21DuNTpB"
   },
   "outputs": [],
   "source": [
    "import pandas as pd\n",
    "from sklearn.feature_extraction.text import TfidfVectorizer\n",
    "from sklearn.model_selection import train_test_split\n",
    "from sklearn.ensemble import RandomForestClassifier\n",
    "from sklearn.metrics import accuracy_score, classification_report\n",
    "from imblearn.over_sampling import SMOTE\n",
    "import mlflow\n",
    "import mlflow.sklearn\n",
    "import optuna\n"
   ]
  },
  {
   "cell_type": "code",
   "execution_count": 6,
   "metadata": {
    "colab": {
     "base_uri": "https://localhost:8080/"
    },
    "id": "-5y38KliNmzU",
    "outputId": "2be847c9-14a8-4406-8547-c85fc34f650c"
   },
   "outputs": [
    {
     "data": {
      "text/plain": [
       "(36799, 2)"
      ]
     },
     "metadata": {},
     "output_type": "display_data"
    },
    {
     "data": {
      "text/plain": [
       "None"
      ]
     },
     "metadata": {},
     "output_type": "display_data"
    },
    {
     "data": {
      "text/plain": [
       "(36662, 2)"
      ]
     },
     "metadata": {},
     "output_type": "display_data"
    }
   ],
   "source": [
    "df = pd.read_csv(\"/media/ubaid-ur-rehman/Artifacts/CodeData/jupyter notebook/End to End  ML Projects/yt-comment-analyzer-preprocessing/reddit_preprocessing.csv\")\n",
    "display(df.shape,df.dropna(inplace=True)\n",
    ",df.shape)"
   ]
  },
  {
   "cell_type": "code",
   "execution_count": 7,
   "metadata": {
    "colab": {
     "base_uri": "https://localhost:8080/"
    },
    "id": "dZxnJ1FWNtuL",
    "outputId": "abf3cf85-c371-483c-9107-97f75621cb89"
   },
   "outputs": [
    {
     "name": "stderr",
     "output_type": "stream",
     "text": [
      "[I 2024-10-27 13:39:30,357] A new study created in memory with name: no-name-03ac6961-6297-4ba6-a995-d261c3fa4359\n",
      "[I 2024-10-27 13:39:34,970] Trial 0 finished with value: 0.6783978017332488 and parameters: {'n_estimators': 260, 'max_depth': 12, 'min_samples_split': 18, 'min_samples_leaf': 11}. Best is trial 0 with value: 0.6783978017332488.\n",
      "[I 2024-10-27 13:39:38,788] Trial 1 finished with value: 0.6853730712322976 and parameters: {'n_estimators': 164, 'max_depth': 15, 'min_samples_split': 7, 'min_samples_leaf': 8}. Best is trial 1 with value: 0.6853730712322976.\n",
      "[I 2024-10-27 13:39:42,145] Trial 2 finished with value: 0.6727964489537096 and parameters: {'n_estimators': 188, 'max_depth': 12, 'min_samples_split': 12, 'min_samples_leaf': 13}. Best is trial 1 with value: 0.6853730712322976.\n",
      "[I 2024-10-27 13:39:46,433] Trial 3 finished with value: 0.6896005072923272 and parameters: {'n_estimators': 195, 'max_depth': 17, 'min_samples_split': 12, 'min_samples_leaf': 14}. Best is trial 3 with value: 0.6896005072923272.\n",
      "[I 2024-10-27 13:39:50,054] Trial 4 finished with value: 0.6979496935108856 and parameters: {'n_estimators': 125, 'max_depth': 16, 'min_samples_split': 15, 'min_samples_leaf': 2}. Best is trial 4 with value: 0.6979496935108856.\n",
      "[I 2024-10-27 13:39:52,105] Trial 5 finished with value: 0.6177340942718241 and parameters: {'n_estimators': 264, 'max_depth': 3, 'min_samples_split': 12, 'min_samples_leaf': 11}. Best is trial 4 with value: 0.6979496935108856.\n",
      "[I 2024-10-27 13:39:54,246] Trial 6 finished with value: 0.6460579158740224 and parameters: {'n_estimators': 180, 'max_depth': 7, 'min_samples_split': 5, 'min_samples_leaf': 13}. Best is trial 4 with value: 0.6979496935108856.\n",
      "[I 2024-10-27 13:39:55,114] Trial 7 finished with value: 0.6541957302895793 and parameters: {'n_estimators': 55, 'max_depth': 11, 'min_samples_split': 3, 'min_samples_leaf': 18}. Best is trial 4 with value: 0.6979496935108856.\n",
      "[I 2024-10-27 13:39:57,735] Trial 8 finished with value: 0.6999577256393997 and parameters: {'n_estimators': 82, 'max_depth': 18, 'min_samples_split': 14, 'min_samples_leaf': 3}. Best is trial 8 with value: 0.6999577256393997.\n",
      "[I 2024-10-27 13:39:59,617] Trial 9 finished with value: 0.6889663918833228 and parameters: {'n_estimators': 89, 'max_depth': 17, 'min_samples_split': 8, 'min_samples_leaf': 17}. Best is trial 8 with value: 0.6999577256393997.\n",
      "[I 2024-10-27 13:40:01,607] Trial 10 finished with value: 0.703868103994927 and parameters: {'n_estimators': 52, 'max_depth': 20, 'min_samples_split': 20, 'min_samples_leaf': 1}. Best is trial 10 with value: 0.703868103994927.\n",
      "[I 2024-10-27 13:40:04,035] Trial 11 finished with value: 0.7077784823504545 and parameters: {'n_estimators': 65, 'max_depth': 20, 'min_samples_split': 20, 'min_samples_leaf': 1}. Best is trial 11 with value: 0.7077784823504545.\n",
      "[I 2024-10-27 13:40:05,740] Trial 12 finished with value: 0.6993236102303952 and parameters: {'n_estimators': 55, 'max_depth': 20, 'min_samples_split': 20, 'min_samples_leaf': 6}. Best is trial 11 with value: 0.7077784823504545.\n",
      "[I 2024-10-27 13:40:09,990] Trial 13 finished with value: 0.7102092580849715 and parameters: {'n_estimators': 121, 'max_depth': 19, 'min_samples_split': 20, 'min_samples_leaf': 1}. Best is trial 13 with value: 0.7102092580849715.\n",
      "[I 2024-10-27 13:40:12,809] Trial 14 finished with value: 0.681145635172268 and parameters: {'n_estimators': 124, 'max_depth': 14, 'min_samples_split': 17, 'min_samples_leaf': 5}. Best is trial 13 with value: 0.7102092580849715.\n",
      "[I 2024-10-27 13:40:17,003] Trial 15 finished with value: 0.7024941872754175 and parameters: {'n_estimators': 125, 'max_depth': 20, 'min_samples_split': 17, 'min_samples_leaf': 5}. Best is trial 13 with value: 0.7102092580849715.\n",
      "[I 2024-10-27 13:40:18,195] Trial 16 finished with value: 0.6397167617839781 and parameters: {'n_estimators': 94, 'max_depth': 7, 'min_samples_split': 20, 'min_samples_leaf': 8}. Best is trial 13 with value: 0.7102092580849715.\n",
      "[I 2024-10-27 13:40:22,916] Trial 17 finished with value: 0.7049249630099345 and parameters: {'n_estimators': 133, 'max_depth': 18, 'min_samples_split': 16, 'min_samples_leaf': 1}. Best is trial 13 with value: 0.7102092580849715.\n",
      "[I 2024-10-27 13:40:28,458] Trial 18 finished with value: 0.6878038469668146 and parameters: {'n_estimators': 220, 'max_depth': 14, 'min_samples_split': 10, 'min_samples_leaf': 4}. Best is trial 13 with value: 0.7102092580849715.\n",
      "[I 2024-10-27 13:40:31,088] Trial 19 finished with value: 0.6640245191291482 and parameters: {'n_estimators': 155, 'max_depth': 10, 'min_samples_split': 18, 'min_samples_leaf': 8}. Best is trial 13 with value: 0.7102092580849715.\n",
      "[I 2024-10-27 13:40:40,988] Trial 20 finished with value: 0.7027055590784189 and parameters: {'n_estimators': 295, 'max_depth': 18, 'min_samples_split': 15, 'min_samples_leaf': 3}. Best is trial 13 with value: 0.7102092580849715.\n",
      "[I 2024-10-27 13:40:46,637] Trial 21 finished with value: 0.7085182836609596 and parameters: {'n_estimators': 142, 'max_depth': 19, 'min_samples_split': 18, 'min_samples_leaf': 1}. Best is trial 13 with value: 0.7102092580849715.\n",
      "[I 2024-10-27 13:40:50,589] Trial 22 finished with value: 0.7077784823504545 and parameters: {'n_estimators': 98, 'max_depth': 19, 'min_samples_split': 19, 'min_samples_leaf': 1}. Best is trial 13 with value: 0.7102092580849715.\n",
      "[I 2024-10-27 13:40:54,555] Trial 23 finished with value: 0.691714225322342 and parameters: {'n_estimators': 147, 'max_depth': 16, 'min_samples_split': 18, 'min_samples_leaf': 6}. Best is trial 13 with value: 0.7102092580849715.\n",
      "[I 2024-10-27 13:40:58,526] Trial 24 finished with value: 0.7053477066159375 and parameters: {'n_estimators': 109, 'max_depth': 19, 'min_samples_split': 20, 'min_samples_leaf': 3}. Best is trial 13 with value: 0.7102092580849715.\n",
      "[I 2024-10-27 13:41:00,643] Trial 25 finished with value: 0.6820968082857747 and parameters: {'n_estimators': 75, 'max_depth': 14, 'min_samples_split': 14, 'min_samples_leaf': 1}. Best is trial 13 with value: 0.7102092580849715.\n",
      "[I 2024-10-27 13:41:06,100] Trial 26 finished with value: 0.6939336292538575 and parameters: {'n_estimators': 216, 'max_depth': 20, 'min_samples_split': 17, 'min_samples_leaf': 20}. Best is trial 13 with value: 0.7102092580849715.\n",
      "[I 2024-10-27 13:41:09,537] Trial 27 finished with value: 0.6930881420418517 and parameters: {'n_estimators': 111, 'max_depth': 16, 'min_samples_split': 19, 'min_samples_leaf': 4}. Best is trial 13 with value: 0.7102092580849715.\n",
      "[I 2024-10-27 13:41:14,498] Trial 28 finished with value: 0.6952018600718665 and parameters: {'n_estimators': 148, 'max_depth': 18, 'min_samples_split': 16, 'min_samples_leaf': 7}. Best is trial 13 with value: 0.7102092580849715.\n",
      "[I 2024-10-27 13:41:16,105] Trial 29 finished with value: 0.6684633269921793 and parameters: {'n_estimators': 73, 'max_depth': 12, 'min_samples_split': 19, 'min_samples_leaf': 10}. Best is trial 13 with value: 0.7102092580849715.\n",
      "2024/10/27 13:41:38 WARNING mlflow.models.model: Model logged without a signature and input example. Please set `input_example` parameter when logging the model to auto infer the model signature.\n",
      "2024/10/27 13:41:53 INFO mlflow.tracking._tracking_service.client: 🏃 View run RandomForest_SMOTE_TFIDF_Trigrams at: http://ec2-13-60-32-83.eu-north-1.compute.amazonaws.com:5000/#/experiments/627515249629414087/runs/7e501fa54b894c409c243bc3cd765a5b.\n",
      "2024/10/27 13:41:53 INFO mlflow.tracking._tracking_service.client: 🧪 View experiment at: http://ec2-13-60-32-83.eu-north-1.compute.amazonaws.com:5000/#/experiments/627515249629414087.\n"
     ]
    }
   ],
   "source": [
    "# Step 1: (Optional) Remapping - skipped since not strictly needed for Random Forest\n",
    "\n",
    "# Step 2: Remove rows where the target labels (category) are NaN\n",
    "df = df.dropna(subset=['category'])\n",
    "\n",
    "# Step 3: TF-IDF vectorizer setup\n",
    "ngram_range = (1, 3)  # Trigram\n",
    "max_features = 1000  # Set max_features to 1000\n",
    "vectorizer = TfidfVectorizer(ngram_range=ngram_range, max_features=max_features)\n",
    "X = vectorizer.fit_transform(df['clean_comment'])\n",
    "y = df['category']\n",
    "\n",
    "# Step 4: Apply SMOTE to handle class imbalance\n",
    "smote = SMOTE(random_state=42)\n",
    "X_resampled, y_resampled = smote.fit_resample(X, y)\n",
    "\n",
    "# Step 5: Train-test split\n",
    "X_train, X_test, y_train, y_test = train_test_split(X_resampled, y_resampled, test_size=0.2, random_state=42, stratify=y_resampled)\n",
    "\n",
    "# Function to log results in MLflow\n",
    "def log_mlflow(model_name, model, X_train, X_test, y_train, y_test):\n",
    "    with mlflow.start_run():\n",
    "        # Log model type\n",
    "        mlflow.set_tag(\"mlflow.runName\", f\"{model_name}_SMOTE_TFIDF_Trigrams\")\n",
    "        mlflow.set_tag(\"experiment_type\", \"algorithm_comparison\")\n",
    "\n",
    "        # Log algorithm name as a parameter\n",
    "        mlflow.log_param(\"algo_name\", model_name)\n",
    "\n",
    "        # Train model\n",
    "        model.fit(X_train, y_train)\n",
    "        y_pred = model.predict(X_test)\n",
    "\n",
    "        # Log accuracy\n",
    "        accuracy = accuracy_score(y_test, y_pred)\n",
    "        mlflow.log_metric(\"accuracy\", accuracy)\n",
    "\n",
    "        # Log classification report\n",
    "        classification_rep = classification_report(y_test, y_pred, output_dict=True)\n",
    "        for label, metrics in classification_rep.items():\n",
    "            if isinstance(metrics, dict):\n",
    "                for metric, value in metrics.items():\n",
    "                    mlflow.log_metric(f\"{label}_{metric}\", value)\n",
    "\n",
    "        # Log the model\n",
    "        mlflow.sklearn.log_model(model, f\"{model_name}_model\")\n",
    "\n",
    "\n",
    "# Step 6: Optuna objective function for Random Forest\n",
    "def objective_rf(trial):\n",
    "    n_estimators = trial.suggest_int('n_estimators', 50, 300)  # Number of trees in the forest\n",
    "    max_depth = trial.suggest_int('max_depth', 3, 20)  # Maximum depth of the tree\n",
    "    min_samples_split = trial.suggest_int('min_samples_split', 2, 20)  # Minimum samples required to split a node\n",
    "    min_samples_leaf = trial.suggest_int('min_samples_leaf', 1, 20)  # Minimum samples required at a leaf node\n",
    "\n",
    "    # RandomForestClassifier setup\n",
    "    model = RandomForestClassifier(n_estimators=n_estimators, max_depth=max_depth,\n",
    "                                   min_samples_split=min_samples_split, min_samples_leaf=min_samples_leaf,\n",
    "                                   random_state=42)\n",
    "    return accuracy_score(y_test, model.fit(X_train, y_train).predict(X_test))\n",
    "\n",
    "\n",
    "# Step 7: Run Optuna for Random Forest, log the best model only\n",
    "def run_optuna_experiment():\n",
    "    study = optuna.create_study(direction=\"maximize\")\n",
    "    study.optimize(objective_rf, n_trials=30)\n",
    "\n",
    "    # Get the best parameters and log only the best model\n",
    "    best_params = study.best_params\n",
    "    best_model = RandomForestClassifier(n_estimators=best_params['n_estimators'],\n",
    "                                        max_depth=best_params['max_depth'],\n",
    "                                        min_samples_split=best_params['min_samples_split'],\n",
    "                                        min_samples_leaf=best_params['min_samples_leaf'],\n",
    "                                        random_state=42)\n",
    "\n",
    "    # Log the best model with MLflow, passing the algo_name as \"RandomForest\"\n",
    "    log_mlflow(\"RandomForest\", best_model, X_train, X_test, y_train, y_test)\n",
    "\n",
    "# Run the experiment for Random Forest\n",
    "run_optuna_experiment()\n"
   ]
  },
  {
   "cell_type": "code",
   "execution_count": 8,
   "metadata": {
    "id": "R2i90uhJNxuk"
   },
   "outputs": [
    {
     "ename": "SyntaxError",
     "evalue": "invalid syntax (1933637684.py, line 1)",
     "output_type": "error",
     "traceback": [
      "\u001b[0;36m  Cell \u001b[0;32mIn[8], line 1\u001b[0;36m\u001b[0m\n\u001b[0;31m    .\u001b[0m\n\u001b[0m    ^\u001b[0m\n\u001b[0;31mSyntaxError\u001b[0m\u001b[0;31m:\u001b[0m invalid syntax\n"
     ]
    }
   ],
   "source": [
    "."
   ]
  },
  {
   "cell_type": "code",
   "execution_count": null,
   "metadata": {},
   "outputs": [],
   "source": []
  }
 ],
 "metadata": {
  "colab": {
   "provenance": []
  },
  "kernelspec": {
   "display_name": "Python 3 (ipykernel)",
   "language": "python",
   "name": "python3"
  },
  "language_info": {
   "codemirror_mode": {
    "name": "ipython",
    "version": 3
   },
   "file_extension": ".py",
   "mimetype": "text/x-python",
   "name": "python",
   "nbconvert_exporter": "python",
   "pygments_lexer": "ipython3",
   "version": "3.10.14"
  }
 },
 "nbformat": 4,
 "nbformat_minor": 4
}
