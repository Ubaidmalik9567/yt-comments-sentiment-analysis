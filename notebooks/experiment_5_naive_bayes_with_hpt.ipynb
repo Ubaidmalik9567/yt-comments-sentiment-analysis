{
 "cells": [
  {
   "cell_type": "code",
   "execution_count": 7,
   "metadata": {
    "id": "FitSe4YqLphs"
   },
   "outputs": [],
   "source": [
    "import mlflow\n",
    "# Step 2: Set up the MLflow tracking server\n",
    "mlflow.set_tracking_uri(\"http://ec2-13-60-32-83.eu-north-1.compute.amazonaws.com:5000/\")"
   ]
  },
  {
   "cell_type": "code",
   "execution_count": 8,
   "metadata": {
    "colab": {
     "base_uri": "https://localhost:8080/"
    },
    "id": "hTA0BVtYL1h8",
    "outputId": "3c064ce9-1686-4fe7-f4c5-c3ff76d1d828"
   },
   "outputs": [
    {
     "data": {
      "text/plain": [
       "<Experiment: artifact_location='s3://mlflow-yt-comment-analyzer-bucket/627515249629414087', creation_time=1730017653834, experiment_id='627515249629414087', last_update_time=1730017653834, lifecycle_stage='active', name='ML Algos with HP Tuning', tags={}>"
      ]
     },
     "execution_count": 8,
     "metadata": {},
     "output_type": "execute_result"
    }
   ],
   "source": [
    "# Set or create an experiment\n",
    "mlflow.set_experiment(\"ML Algos with HP Tuning\")"
   ]
  },
  {
   "cell_type": "code",
   "execution_count": 9,
   "metadata": {
    "id": "yePqZe37L3yf"
   },
   "outputs": [],
   "source": [
    "import pandas as pd\n",
    "from sklearn.feature_extraction.text import TfidfVectorizer\n",
    "from sklearn.model_selection import train_test_split\n",
    "from sklearn.naive_bayes import MultinomialNB\n",
    "from sklearn.metrics import accuracy_score, classification_report\n",
    "from imblearn.over_sampling import SMOTE\n",
    "import mlflow\n",
    "import mlflow.sklearn\n",
    "import optuna\n"
   ]
  },
  {
   "cell_type": "code",
   "execution_count": 10,
   "metadata": {
    "colab": {
     "base_uri": "https://localhost:8080/"
    },
    "id": "Vf3mf2bjMGjf",
    "outputId": "ab993e9e-7f58-45a6-e4ad-9bb13d28230a"
   },
   "outputs": [
    {
     "data": {
      "text/plain": [
       "(36799, 2)"
      ]
     },
     "metadata": {},
     "output_type": "display_data"
    },
    {
     "data": {
      "text/plain": [
       "None"
      ]
     },
     "metadata": {},
     "output_type": "display_data"
    },
    {
     "data": {
      "text/plain": [
       "(36662, 2)"
      ]
     },
     "metadata": {},
     "output_type": "display_data"
    }
   ],
   "source": [
    "df = pd.read_csv(\"/media/ubaid-ur-rehman/Artifacts/CodeData/jupyter notebook/End to End  ML Projects/yt-comment-analyzer-preprocessing/reddit_preprocessing.csv\")\n",
    "display(df.shape,df.dropna(inplace=True)\n",
    ",df.shape)"
   ]
  },
  {
   "cell_type": "code",
   "execution_count": 11,
   "metadata": {
    "colab": {
     "base_uri": "https://localhost:8080/"
    },
    "id": "xhwie-MyMNNw",
    "outputId": "df8d178f-9922-4657-e844-d99b2dfa2c81"
   },
   "outputs": [
    {
     "name": "stderr",
     "output_type": "stream",
     "text": [
      "[I 2024-10-27 13:32:28,038] A new study created in memory with name: no-name-87640008-ac7b-4f93-8b54-4770405a9a87\n",
      "[I 2024-10-27 13:32:28,048] Trial 0 finished with value: 0.6674064679771718 and parameters: {'alpha': 0.02093841715044205}. Best is trial 0 with value: 0.6674064679771718.\n",
      "[I 2024-10-27 13:32:28,057] Trial 1 finished with value: 0.6671950961741704 and parameters: {'alpha': 0.04004192315863193}. Best is trial 0 with value: 0.6674064679771718.\n",
      "[I 2024-10-27 13:32:28,067] Trial 2 finished with value: 0.6673007820756711 and parameters: {'alpha': 0.00010456852298522958}. Best is trial 0 with value: 0.6674064679771718.\n",
      "[I 2024-10-27 13:32:28,076] Trial 3 finished with value: 0.6659268653561615 and parameters: {'alpha': 0.1855161833817792}. Best is trial 0 with value: 0.6674064679771718.\n",
      "[I 2024-10-27 13:32:28,085] Trial 4 finished with value: 0.6659268653561615 and parameters: {'alpha': 0.18057432734334125}. Best is trial 0 with value: 0.6674064679771718.\n",
      "[I 2024-10-27 13:32:28,094] Trial 5 finished with value: 0.6673007820756711 and parameters: {'alpha': 0.0004928857297375321}. Best is trial 0 with value: 0.6674064679771718.\n",
      "[I 2024-10-27 13:32:28,104] Trial 6 finished with value: 0.6646586345381527 and parameters: {'alpha': 0.7073387638785757}. Best is trial 0 with value: 0.6674064679771718.\n",
      "[I 2024-10-27 13:32:28,113] Trial 7 finished with value: 0.6671950961741704 and parameters: {'alpha': 0.009261694854781129}. Best is trial 0 with value: 0.6674064679771718.\n",
      "[I 2024-10-27 13:32:28,122] Trial 8 finished with value: 0.6673007820756711 and parameters: {'alpha': 0.00624664760033368}. Best is trial 0 with value: 0.6674064679771718.\n",
      "[I 2024-10-27 13:32:28,132] Trial 9 finished with value: 0.6651870640456563 and parameters: {'alpha': 0.3909090346216921}. Best is trial 0 with value: 0.6674064679771718.\n",
      "[I 2024-10-27 13:32:28,145] Trial 10 finished with value: 0.6673007820756711 and parameters: {'alpha': 0.001806460271511241}. Best is trial 0 with value: 0.6674064679771718.\n",
      "[I 2024-10-27 13:32:28,157] Trial 11 finished with value: 0.6673007820756711 and parameters: {'alpha': 0.0002707289313036276}. Best is trial 0 with value: 0.6674064679771718.\n",
      "[I 2024-10-27 13:32:28,169] Trial 12 finished with value: 0.6673007820756711 and parameters: {'alpha': 0.02663826288670845}. Best is trial 0 with value: 0.6674064679771718.\n",
      "[I 2024-10-27 13:32:28,181] Trial 13 finished with value: 0.6673007820756711 and parameters: {'alpha': 0.0001279516375349975}. Best is trial 0 with value: 0.6674064679771718.\n",
      "[I 2024-10-27 13:32:28,193] Trial 14 finished with value: 0.6673007820756711 and parameters: {'alpha': 0.0015877513202317312}. Best is trial 0 with value: 0.6674064679771718.\n",
      "[I 2024-10-27 13:32:28,206] Trial 15 finished with value: 0.6671950961741704 and parameters: {'alpha': 0.028802529004428548}. Best is trial 0 with value: 0.6674064679771718.\n",
      "[I 2024-10-27 13:32:28,218] Trial 16 finished with value: 0.6674064679771718 and parameters: {'alpha': 0.0029823266912786047}. Best is trial 0 with value: 0.6674064679771718.\n",
      "[I 2024-10-27 13:32:28,230] Trial 17 finished with value: 0.6674064679771718 and parameters: {'alpha': 0.002564872595856754}. Best is trial 0 with value: 0.6674064679771718.\n",
      "[I 2024-10-27 13:32:28,242] Trial 18 finished with value: 0.6670894102726697 and parameters: {'alpha': 0.06176358795684328}. Best is trial 0 with value: 0.6674064679771718.\n",
      "[I 2024-10-27 13:32:28,254] Trial 19 finished with value: 0.6673007820756711 and parameters: {'alpha': 0.005518012917926161}. Best is trial 0 with value: 0.6674064679771718.\n",
      "[I 2024-10-27 13:32:28,266] Trial 20 finished with value: 0.6673007820756711 and parameters: {'alpha': 0.0007357959804118996}. Best is trial 0 with value: 0.6674064679771718.\n",
      "[I 2024-10-27 13:32:28,279] Trial 21 finished with value: 0.6674064679771718 and parameters: {'alpha': 0.0025866798688078587}. Best is trial 0 with value: 0.6674064679771718.\n",
      "[I 2024-10-27 13:32:28,291] Trial 22 finished with value: 0.6673007820756711 and parameters: {'alpha': 0.015323664437256086}. Best is trial 0 with value: 0.6674064679771718.\n",
      "[I 2024-10-27 13:32:28,303] Trial 23 finished with value: 0.6674064679771718 and parameters: {'alpha': 0.0033793498975290483}. Best is trial 0 with value: 0.6674064679771718.\n",
      "[I 2024-10-27 13:32:28,315] Trial 24 finished with value: 0.6673007820756711 and parameters: {'alpha': 0.0009459235947721396}. Best is trial 0 with value: 0.6674064679771718.\n",
      "[I 2024-10-27 13:32:28,327] Trial 25 finished with value: 0.6671950961741704 and parameters: {'alpha': 0.014470970793112792}. Best is trial 0 with value: 0.6674064679771718.\n",
      "[I 2024-10-27 13:32:28,340] Trial 26 finished with value: 0.6673007820756711 and parameters: {'alpha': 0.0036909060644151987}. Best is trial 0 with value: 0.6674064679771718.\n",
      "[I 2024-10-27 13:32:28,352] Trial 27 finished with value: 0.6667723525681674 and parameters: {'alpha': 0.0875582375351603}. Best is trial 0 with value: 0.6674064679771718.\n",
      "[I 2024-10-27 13:32:28,364] Trial 28 finished with value: 0.6671950961741704 and parameters: {'alpha': 0.008712214343593554}. Best is trial 0 with value: 0.6674064679771718.\n",
      "[I 2024-10-27 13:32:28,376] Trial 29 finished with value: 0.6673007820756711 and parameters: {'alpha': 0.0012909479361945494}. Best is trial 0 with value: 0.6674064679771718.\n",
      "2024/10/27 13:32:44 WARNING mlflow.models.model: Model logged without a signature and input example. Please set `input_example` parameter when logging the model to auto infer the model signature.\n",
      "2024/10/27 13:32:50 INFO mlflow.tracking._tracking_service.client: 🏃 View run MultinomialNB_SMOTE_TFIDF_Trigrams at: http://ec2-13-60-32-83.eu-north-1.compute.amazonaws.com:5000/#/experiments/627515249629414087/runs/8229632a910640b591446c3b3e4c1d48.\n",
      "2024/10/27 13:32:50 INFO mlflow.tracking._tracking_service.client: 🧪 View experiment at: http://ec2-13-60-32-83.eu-north-1.compute.amazonaws.com:5000/#/experiments/627515249629414087.\n"
     ]
    }
   ],
   "source": [
    "# Step 1: (Optional) Remapping - skipped since not strictly needed for Multinomial Naive Bayes\n",
    "\n",
    "# Step 2: Remove rows where the target labels (category) are NaN\n",
    "df = df.dropna(subset=['category'])\n",
    "\n",
    "# Step 3: TF-IDF vectorizer setup\n",
    "ngram_range = (1, 3)  # Trigram\n",
    "max_features = 1000  # Set max_features to 1000\n",
    "vectorizer = TfidfVectorizer(ngram_range=ngram_range, max_features=max_features)\n",
    "X = vectorizer.fit_transform(df['clean_comment'])\n",
    "y = df['category']\n",
    "\n",
    "# Step 4: Apply SMOTE to handle class imbalance\n",
    "smote = SMOTE(random_state=42)\n",
    "X_resampled, y_resampled = smote.fit_resample(X, y)\n",
    "\n",
    "# Step 5: Train-test split\n",
    "X_train, X_test, y_train, y_test = train_test_split(X_resampled, y_resampled, test_size=0.2, random_state=42, stratify=y_resampled)\n",
    "\n",
    "# Function to log results in MLflow\n",
    "def log_mlflow(model_name, model, X_train, X_test, y_train, y_test):\n",
    "    with mlflow.start_run():\n",
    "        # Log model type\n",
    "        mlflow.set_tag(\"mlflow.runName\", f\"{model_name}_SMOTE_TFIDF_Trigrams\")\n",
    "        mlflow.set_tag(\"experiment_type\", \"algorithm_comparison\")\n",
    "\n",
    "        # Log algorithm name as a parameter\n",
    "        mlflow.log_param(\"algo_name\", model_name)\n",
    "\n",
    "        # Train model\n",
    "        model.fit(X_train, y_train)\n",
    "        y_pred = model.predict(X_test)\n",
    "\n",
    "        # Log accuracy\n",
    "        accuracy = accuracy_score(y_test, y_pred)\n",
    "        mlflow.log_metric(\"accuracy\", accuracy)\n",
    "\n",
    "        # Log classification report\n",
    "        classification_rep = classification_report(y_test, y_pred, output_dict=True)\n",
    "        for label, metrics in classification_rep.items():\n",
    "            if isinstance(metrics, dict):\n",
    "                for metric, value in metrics.items():\n",
    "                    mlflow.log_metric(f\"{label}_{metric}\", value)\n",
    "\n",
    "        # Log the model\n",
    "        mlflow.sklearn.log_model(model, f\"{model_name}_model\")\n",
    "\n",
    "\n",
    "# Step 6: Optuna objective function for Multinomial Naive Bayes\n",
    "def objective_mnb(trial):\n",
    "    alpha = trial.suggest_float('alpha', 1e-4, 1.0, log=True)  # Tuning the smoothing parameter\n",
    "\n",
    "    # MultinomialNB model setup\n",
    "    model = MultinomialNB(alpha=alpha)\n",
    "    return accuracy_score(y_test, model.fit(X_train, y_train).predict(X_test))\n",
    "\n",
    "\n",
    "# Step 7: Run Optuna for Multinomial Naive Bayes, log the best model only\n",
    "def run_optuna_experiment():\n",
    "    study = optuna.create_study(direction=\"maximize\")\n",
    "    study.optimize(objective_mnb, n_trials=30)\n",
    "\n",
    "    # Get the best parameters and log only the best model\n",
    "    best_params = study.best_params\n",
    "    best_model = MultinomialNB(alpha=best_params['alpha'])\n",
    "\n",
    "    # Log the best model with MLflow, passing the algo_name as \"MultinomialNB\"\n",
    "    log_mlflow(\"MultinomialNB\", best_model, X_train, X_test, y_train, y_test)\n",
    "\n",
    "# Run the experiment for Multinomial Naive Bayes\n",
    "run_optuna_experiment()\n"
   ]
  },
  {
   "cell_type": "code",
   "execution_count": 12,
   "metadata": {
    "id": "9_X8KbpdMQaS"
   },
   "outputs": [
    {
     "ename": "SyntaxError",
     "evalue": "invalid syntax (1933637684.py, line 1)",
     "output_type": "error",
     "traceback": [
      "\u001b[0;36m  Cell \u001b[0;32mIn[12], line 1\u001b[0;36m\u001b[0m\n\u001b[0;31m    .\u001b[0m\n\u001b[0m    ^\u001b[0m\n\u001b[0;31mSyntaxError\u001b[0m\u001b[0;31m:\u001b[0m invalid syntax\n"
     ]
    }
   ],
   "source": [
    "."
   ]
  },
  {
   "cell_type": "code",
   "execution_count": null,
   "metadata": {},
   "outputs": [],
   "source": []
  }
 ],
 "metadata": {
  "colab": {
   "provenance": []
  },
  "kernelspec": {
   "display_name": "Python 3 (ipykernel)",
   "language": "python",
   "name": "python3"
  },
  "language_info": {
   "codemirror_mode": {
    "name": "ipython",
    "version": 3
   },
   "file_extension": ".py",
   "mimetype": "text/x-python",
   "name": "python",
   "nbconvert_exporter": "python",
   "pygments_lexer": "ipython3",
   "version": "3.10.14"
  }
 },
 "nbformat": 4,
 "nbformat_minor": 4
}
