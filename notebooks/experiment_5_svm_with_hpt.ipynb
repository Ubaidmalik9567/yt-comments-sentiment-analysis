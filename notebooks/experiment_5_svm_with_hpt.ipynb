{
 "cells": [
  {
   "cell_type": "code",
   "execution_count": 3,
   "metadata": {
    "id": "80CS9Ba8oicq"
   },
   "outputs": [],
   "source": [
    "import mlflow\n",
    "# Step 2: Set up the MLflow tracking server\n",
    "mlflow.set_tracking_uri(\"http://ec2-13-60-32-83.eu-north-1.compute.amazonaws.com:5000/\")"
   ]
  },
  {
   "cell_type": "code",
   "execution_count": 4,
   "metadata": {
    "colab": {
     "base_uri": "https://localhost:8080/"
    },
    "id": "xCJNW6DZoka5",
    "outputId": "b06bf2d8-8808-481b-f93f-71fdb516f2e0"
   },
   "outputs": [
    {
     "data": {
      "text/plain": [
       "<Experiment: artifact_location='s3://mlflow-yt-comment-analyzer-bucket/627515249629414087', creation_time=1730017653834, experiment_id='627515249629414087', last_update_time=1730017653834, lifecycle_stage='active', name='ML Algos with HP Tuning', tags={}>"
      ]
     },
     "execution_count": 4,
     "metadata": {},
     "output_type": "execute_result"
    }
   ],
   "source": [
    "# Set or create an experiment\n",
    "mlflow.set_experiment(\"ML Algos with HP Tuning\")"
   ]
  },
  {
   "cell_type": "code",
   "execution_count": 5,
   "metadata": {
    "id": "Y-0BV-plomXS"
   },
   "outputs": [],
   "source": [
    "import pandas as pd\n",
    "from sklearn.feature_extraction.text import TfidfVectorizer\n",
    "from sklearn.model_selection import train_test_split\n",
    "from sklearn.metrics import accuracy_score, classification_report\n",
    "from sklearn.svm import SVC\n",
    "from imblearn.over_sampling import SMOTE\n",
    "import mlflow\n",
    "import mlflow.sklearn\n",
    "import optuna"
   ]
  },
  {
   "cell_type": "code",
   "execution_count": 6,
   "metadata": {
    "colab": {
     "base_uri": "https://localhost:8080/"
    },
    "id": "GoaMIwa3po8e",
    "outputId": "a799715f-357e-4569-a418-a4e66b72cf03"
   },
   "outputs": [
    {
     "data": {
      "text/plain": [
       "(36799, 2)"
      ]
     },
     "metadata": {},
     "output_type": "display_data"
    },
    {
     "data": {
      "text/plain": [
       "None"
      ]
     },
     "metadata": {},
     "output_type": "display_data"
    },
    {
     "data": {
      "text/plain": [
       "(36662, 2)"
      ]
     },
     "metadata": {},
     "output_type": "display_data"
    }
   ],
   "source": [
    "df = pd.read_csv(\"/media/ubaid-ur-rehman/Artifacts/CodeData/jupyter notebook/End to End  ML Projects/yt-comment-analyzer-preprocessing/reddit_preprocessing.csv\")\n",
    "display(df.shape,df.dropna(inplace=True)\n",
    ",df.shape)"
   ]
  },
  {
   "cell_type": "code",
   "execution_count": 7,
   "metadata": {
    "colab": {
     "background_save": true,
     "base_uri": "https://localhost:8080/"
    },
    "id": "3po_cHLtpviA",
    "outputId": "034d7a8d-97c3-42a1-c052-1815561bdcb3"
   },
   "outputs": [
    {
     "name": "stderr",
     "output_type": "stream",
     "text": [
      "[I 2024-10-27 13:39:54,979] A new study created in memory with name: no-name-9739ffb8-7948-4cb6-93ad-4b27afbbacdc\n",
      "[I 2024-10-27 13:42:27,430] Trial 0 finished with value: 0.543859649122807 and parameters: {'C': 0.07856141419917174, 'kernel': 'poly'}. Best is trial 0 with value: 0.543859649122807.\n",
      "[I 2024-10-27 13:54:25,239] Trial 1 finished with value: 0.6955189177763687 and parameters: {'C': 2.9070849343221847, 'kernel': 'poly'}. Best is trial 1 with value: 0.6955189177763687.\n",
      "[I 2024-10-27 13:59:45,938] Trial 2 finished with value: 0.3628196998520397 and parameters: {'C': 0.0008503090770892965, 'kernel': 'poly'}. Best is trial 1 with value: 0.6955189177763687.\n",
      "[I 2024-10-27 14:03:17,926] Trial 3 finished with value: 0.7300782075671105 and parameters: {'C': 0.08263701165544042, 'kernel': 'linear'}. Best is trial 3 with value: 0.7300782075671105.\n",
      "[I 2024-10-27 14:07:19,798] Trial 4 finished with value: 0.7210949059395476 and parameters: {'C': 0.06308074914450243, 'kernel': 'linear'}. Best is trial 3 with value: 0.7300782075671105.\n",
      "[I 2024-10-27 14:12:37,671] Trial 5 finished with value: 0.3628196998520397 and parameters: {'C': 0.0004991321093635627, 'kernel': 'poly'}. Best is trial 3 with value: 0.7300782075671105.\n",
      "[I 2024-10-27 14:17:31,734] Trial 6 finished with value: 0.44831959416613826 and parameters: {'C': 0.000417822613356092, 'kernel': 'linear'}. Best is trial 3 with value: 0.7300782075671105.\n",
      "[I 2024-10-27 14:28:55,210] Trial 7 finished with value: 0.8325935320228282 and parameters: {'C': 5.25368248209912, 'kernel': 'rbf'}. Best is trial 7 with value: 0.8325935320228282.\n",
      "[I 2024-10-27 14:32:42,897] Trial 8 finished with value: 0.722997252166561 and parameters: {'C': 0.06661566475145776, 'kernel': 'linear'}. Best is trial 7 with value: 0.8325935320228282.\n",
      "[I 2024-10-27 14:39:03,473] Trial 9 finished with value: 0.3993870217712957 and parameters: {'C': 0.00011544214179594904, 'kernel': 'rbf'}. Best is trial 7 with value: 0.8325935320228282.\n",
      "[I 2024-10-27 14:51:12,917] Trial 10 finished with value: 0.8331219615303318 and parameters: {'C': 8.14553218649965, 'kernel': 'rbf'}. Best is trial 10 with value: 0.8331219615303318.\n",
      "[I 2024-10-27 15:02:16,237] Trial 11 finished with value: 0.8326992179243289 and parameters: {'C': 7.233256550433693, 'kernel': 'rbf'}. Best is trial 10 with value: 0.8331219615303318.\n",
      "[I 2024-10-27 15:09:59,528] Trial 12 finished with value: 0.8171633904037201 and parameters: {'C': 1.005750749219273, 'kernel': 'rbf'}. Best is trial 10 with value: 0.8331219615303318.\n",
      "[I 2024-10-27 15:16:35,694] Trial 13 finished with value: 0.8057493130416402 and parameters: {'C': 0.5655189839514155, 'kernel': 'rbf'}. Best is trial 10 with value: 0.8331219615303318.\n",
      "[I 2024-10-27 15:27:50,791] Trial 14 finished with value: 0.8320651025153245 and parameters: {'C': 9.268325693035964, 'kernel': 'rbf'}. Best is trial 10 with value: 0.8331219615303318.\n",
      "[I 2024-10-27 15:33:20,053] Trial 15 finished with value: 0.4134432466708941 and parameters: {'C': 0.006212555802735949, 'kernel': 'rbf'}. Best is trial 10 with value: 0.8331219615303318.\n",
      "[I 2024-10-27 15:39:33,794] Trial 16 finished with value: 0.8049038258296344 and parameters: {'C': 0.5384339155178753, 'kernel': 'rbf'}. Best is trial 10 with value: 0.8331219615303318.\n",
      "[I 2024-10-27 15:52:44,604] Trial 17 finished with value: 0.8274149228492919 and parameters: {'C': 1.7729685781522981, 'kernel': 'rbf'}. Best is trial 10 with value: 0.8331219615303318.\n",
      "[I 2024-10-27 15:58:18,141] Trial 18 finished with value: 0.4184104840414289 and parameters: {'C': 0.007939271699819875, 'kernel': 'rbf'}. Best is trial 10 with value: 0.8331219615303318.\n",
      "[I 2024-10-27 16:02:23,756] Trial 19 finished with value: 0.8058549989431409 and parameters: {'C': 0.5768057016789763, 'kernel': 'rbf'}. Best is trial 10 with value: 0.8331219615303318.\n",
      "[I 2024-10-27 16:05:34,820] Trial 20 finished with value: 0.7868315366730079 and parameters: {'C': 0.28048890992330755, 'kernel': 'rbf'}. Best is trial 10 with value: 0.8331219615303318.\n",
      "[I 2024-10-27 16:13:27,957] Trial 21 finished with value: 0.8325935320228282 and parameters: {'C': 6.184232800252879, 'kernel': 'rbf'}. Best is trial 10 with value: 0.8331219615303318.\n",
      "[I 2024-10-27 16:20:52,376] Trial 22 finished with value: 0.8316423589093215 and parameters: {'C': 3.476374496717414, 'kernel': 'rbf'}. Best is trial 10 with value: 0.8331219615303318.\n",
      "[I 2024-10-27 16:28:27,999] Trial 23 finished with value: 0.8334390192348341 and parameters: {'C': 8.454053836342949, 'kernel': 'rbf'}. Best is trial 23 with value: 0.8334390192348341.\n",
      "[I 2024-10-27 16:35:53,096] Trial 24 finished with value: 0.8325935320228282 and parameters: {'C': 9.8976657724317, 'kernel': 'rbf'}. Best is trial 23 with value: 0.8334390192348341.\n",
      "[I 2024-10-27 16:43:21,235] Trial 25 finished with value: 0.8268864933417882 and parameters: {'C': 1.674224026616496, 'kernel': 'rbf'}. Best is trial 23 with value: 0.8334390192348341.\n",
      "[I 2024-10-27 16:46:19,524] Trial 26 finished with value: 0.7628408370323398 and parameters: {'C': 0.17292935212362934, 'kernel': 'rbf'}. Best is trial 23 with value: 0.8334390192348341.\n",
      "[I 2024-10-27 16:54:27,522] Trial 27 finished with value: 0.8304798139928133 and parameters: {'C': 2.092564049337538, 'kernel': 'rbf'}. Best is trial 23 with value: 0.8334390192348341.\n",
      "[I 2024-10-27 16:57:25,128] Trial 28 finished with value: 0.6354893257239485 and parameters: {'C': 0.014556023401512356, 'kernel': 'linear'}. Best is trial 23 with value: 0.8334390192348341.\n",
      "[I 2024-10-27 17:07:27,914] Trial 29 finished with value: 0.7086239695624603 and parameters: {'C': 0.9393513262483133, 'kernel': 'poly'}. Best is trial 23 with value: 0.8334390192348341.\n",
      "2024/10/27 17:14:34 WARNING mlflow.models.model: Model logged without a signature and input example. Please set `input_example` parameter when logging the model to auto infer the model signature.\n",
      "2024/10/27 17:14:51 INFO mlflow.tracking._tracking_service.client: 🏃 View run SVM_SMOTE_TFIDF_Trigrams at: http://ec2-13-60-32-83.eu-north-1.compute.amazonaws.com:5000/#/experiments/627515249629414087/runs/a35452c2f0de4daf972653df996c269f.\n",
      "2024/10/27 17:14:51 INFO mlflow.tracking._tracking_service.client: 🧪 View experiment at: http://ec2-13-60-32-83.eu-north-1.compute.amazonaws.com:5000/#/experiments/627515249629414087.\n"
     ]
    }
   ],
   "source": [
    "# Step 1: (Optional) Remapping - skipped since not strictly needed for SVM\n",
    "\n",
    "# Step 2: Remove rows where the target labels (category) are NaN\n",
    "df = df.dropna(subset=['category'])\n",
    "\n",
    "# Step 3: TF-IDF vectorizer setup\n",
    "ngram_range = (1, 3)  # Trigram\n",
    "max_features = 1000  # Set max_features to 1000\n",
    "vectorizer = TfidfVectorizer(ngram_range=ngram_range, max_features=max_features)\n",
    "X = vectorizer.fit_transform(df['clean_comment'])\n",
    "y = df['category']\n",
    "\n",
    "# Step 4: Apply SMOTE to handle class imbalance\n",
    "smote = SMOTE(random_state=42)\n",
    "X_resampled, y_resampled = smote.fit_resample(X, y)\n",
    "\n",
    "# Step 5: Train-test split\n",
    "X_train, X_test, y_train, y_test = train_test_split(X_resampled, y_resampled, test_size=0.2, random_state=42, stratify=y_resampled)\n",
    "\n",
    "# Function to log results in MLflow\n",
    "def log_mlflow(model_name, model, X_train, X_test, y_train, y_test):\n",
    "    with mlflow.start_run():\n",
    "        # Log model type\n",
    "        mlflow.set_tag(\"mlflow.runName\", f\"{model_name}_SMOTE_TFIDF_Trigrams\")\n",
    "        mlflow.set_tag(\"experiment_type\", \"algorithm_comparison\")\n",
    "\n",
    "        # Log algorithm name as a parameter\n",
    "        mlflow.log_param(\"algo_name\", model_name)\n",
    "\n",
    "        # Train model\n",
    "        model.fit(X_train, y_train)\n",
    "        y_pred = model.predict(X_test)\n",
    "\n",
    "        # Log accuracy\n",
    "        accuracy = accuracy_score(y_test, y_pred)\n",
    "        mlflow.log_metric(\"accuracy\", accuracy)\n",
    "\n",
    "        # Log classification report\n",
    "        classification_rep = classification_report(y_test, y_pred, output_dict=True)\n",
    "        for label, metrics in classification_rep.items():\n",
    "            if isinstance(metrics, dict):\n",
    "                for metric, value in metrics.items():\n",
    "                    mlflow.log_metric(f\"{label}_{metric}\", value)\n",
    "\n",
    "        # Log the model\n",
    "        mlflow.sklearn.log_model(model, f\"{model_name}_model\")\n",
    "\n",
    "\n",
    "# Step 6: Optuna objective function for SVM\n",
    "def objective_svm(trial):\n",
    "    C = trial.suggest_float('C', 1e-4, 10.0, log=True)\n",
    "    kernel = trial.suggest_categorical('kernel', ['linear', 'rbf', 'poly'])\n",
    "\n",
    "    model = SVC(C=C, kernel=kernel, random_state=42)\n",
    "    return accuracy_score(y_test, model.fit(X_train, y_train).predict(X_test))\n",
    "\n",
    "\n",
    "# Step 7: Run Optuna for SVM, log the best model only\n",
    "def run_optuna_experiment():\n",
    "    study = optuna.create_study(direction=\"maximize\")\n",
    "    study.optimize(objective_svm, n_trials=30)\n",
    "\n",
    "    # Get the best parameters and log only the best model\n",
    "    best_params = study.best_params\n",
    "    best_model = SVC(C=best_params['C'], kernel=best_params['kernel'], random_state=42)\n",
    "\n",
    "    # Log the best model with MLflow, passing the algo_name as \"SVM\"\n",
    "    log_mlflow(\"SVM\", best_model, X_train, X_test, y_train, y_test)\n",
    "\n",
    "# Run the experiment for SVM\n",
    "run_optuna_experiment()\n"
   ]
  },
  {
   "cell_type": "code",
   "execution_count": 8,
   "metadata": {
    "id": "BDX7m8UZp3y3"
   },
   "outputs": [
    {
     "ename": "SyntaxError",
     "evalue": "invalid syntax (1933637684.py, line 1)",
     "output_type": "error",
     "traceback": [
      "\u001b[0;36m  Cell \u001b[0;32mIn[8], line 1\u001b[0;36m\u001b[0m\n\u001b[0;31m    .\u001b[0m\n\u001b[0m    ^\u001b[0m\n\u001b[0;31mSyntaxError\u001b[0m\u001b[0;31m:\u001b[0m invalid syntax\n"
     ]
    }
   ],
   "source": [
    "."
   ]
  },
  {
   "cell_type": "code",
   "execution_count": null,
   "metadata": {},
   "outputs": [],
   "source": []
  }
 ],
 "metadata": {
  "colab": {
   "provenance": []
  },
  "kernelspec": {
   "display_name": "Python 3 (ipykernel)",
   "language": "python",
   "name": "python3"
  },
  "language_info": {
   "codemirror_mode": {
    "name": "ipython",
    "version": 3
   },
   "file_extension": ".py",
   "mimetype": "text/x-python",
   "name": "python",
   "nbconvert_exporter": "python",
   "pygments_lexer": "ipython3",
   "version": "3.10.14"
  }
 },
 "nbformat": 4,
 "nbformat_minor": 4
}
